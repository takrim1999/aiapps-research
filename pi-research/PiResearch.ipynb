{
 "cells": [
  {
   "cell_type": "code",
   "execution_count": 1,
   "id": "2a77794f",
   "metadata": {
    "_cell_guid": "b1076dfc-b9ad-4769-8c92-a6c4dae69d19",
    "_uuid": "8f2839f25d086af736a60e9eeb907d3b93b6e0e5",
    "execution": {
     "iopub.execute_input": "2025-08-07T17:02:01.602794Z",
     "iopub.status.busy": "2025-08-07T17:02:01.602495Z",
     "iopub.status.idle": "2025-08-07T17:02:03.650522Z",
     "shell.execute_reply": "2025-08-07T17:02:03.649529Z"
    },
    "papermill": {
     "duration": 2.053141,
     "end_time": "2025-08-07T17:02:03.652211",
     "exception": false,
     "start_time": "2025-08-07T17:02:01.599070",
     "status": "completed"
    },
    "tags": []
   },
   "outputs": [
    {
     "name": "stdout",
     "output_type": "stream",
     "text": [
      "/kaggle/input/pie-1-million-digits/Pi_Dec_1B.txt\n"
     ]
    }
   ],
   "source": [
    "# This Python 3 environment comes with many helpful analytics libraries installed\n",
    "# It is defined by the kaggle/python Docker image: https://github.com/kaggle/docker-python\n",
    "# For example, here's several helpful packages to load\n",
    "\n",
    "import numpy as np # linear algebra\n",
    "import pandas as pd # data processing, CSV file I/O (e.g. pd.read_csv)\n",
    "\n",
    "# Input data files are available in the read-only \"../input/\" directory\n",
    "# For example, running this (by clicking run or pressing Shift+Enter) will list all files under the input directory\n",
    "\n",
    "import os\n",
    "for dirname, _, filenames in os.walk('/kaggle/input'):\n",
    "    for filename in filenames:\n",
    "        print(os.path.join(dirname, filename))\n",
    "\n",
    "# You can write up to 20GB to the current directory (/kaggle/working/) that gets preserved as output when you create a version using \"Save & Run All\" \n",
    "# You can also write temporary files to /kaggle/temp/, but they won't be saved outside of the current session"
   ]
  },
  {
   "cell_type": "code",
   "execution_count": 2,
   "id": "e3319d6b",
   "metadata": {
    "execution": {
     "iopub.execute_input": "2025-08-07T17:02:03.657934Z",
     "iopub.status.busy": "2025-08-07T17:02:03.657548Z",
     "iopub.status.idle": "2025-08-07T17:02:12.785281Z",
     "shell.execute_reply": "2025-08-07T17:02:12.784351Z"
    },
    "papermill": {
     "duration": 9.132018,
     "end_time": "2025-08-07T17:02:12.786890",
     "exception": false,
     "start_time": "2025-08-07T17:02:03.654872",
     "status": "completed"
    },
    "tags": []
   },
   "outputs": [],
   "source": [
    "with open(\"/kaggle/input/pie-1-million-digits/Pi_Dec_1B.txt\",'r') as pi_file:\n",
    "    values = pi_file.read()\n",
    "values = values[2:]"
   ]
  },
  {
   "cell_type": "code",
   "execution_count": 3,
   "id": "61b65544",
   "metadata": {
    "execution": {
     "iopub.execute_input": "2025-08-07T17:02:12.792569Z",
     "iopub.status.busy": "2025-08-07T17:02:12.792281Z",
     "iopub.status.idle": "2025-08-07T17:02:12.798386Z",
     "shell.execute_reply": "2025-08-07T17:02:12.797642Z"
    },
    "papermill": {
     "duration": 0.010343,
     "end_time": "2025-08-07T17:02:12.799597",
     "exception": false,
     "start_time": "2025-08-07T17:02:12.789254",
     "status": "completed"
    },
    "tags": []
   },
   "outputs": [
    {
     "data": {
      "text/plain": [
       "'1415926535'"
      ]
     },
     "execution_count": 3,
     "metadata": {},
     "output_type": "execute_result"
    }
   ],
   "source": [
    "values[:10]"
   ]
  },
  {
   "cell_type": "code",
   "execution_count": 4,
   "id": "c78e7050",
   "metadata": {
    "execution": {
     "iopub.execute_input": "2025-08-07T17:02:12.804864Z",
     "iopub.status.busy": "2025-08-07T17:02:12.804561Z",
     "iopub.status.idle": "2025-08-07T17:05:41.112557Z",
     "shell.execute_reply": "2025-08-07T17:05:41.111766Z"
    },
    "papermill": {
     "duration": 208.312387,
     "end_time": "2025-08-07T17:05:41.114169",
     "exception": false,
     "start_time": "2025-08-07T17:02:12.801782",
     "status": "completed"
    },
    "tags": []
   },
   "outputs": [],
   "source": [
    "frequency = {}\n",
    "for value in values:\n",
    "    if value in frequency:\n",
    "        frequency[value] += 1\n",
    "    else:\n",
    "        frequency[value] = 1"
   ]
  },
  {
   "cell_type": "code",
   "execution_count": 5,
   "id": "a9091427",
   "metadata": {
    "execution": {
     "iopub.execute_input": "2025-08-07T17:05:41.120161Z",
     "iopub.status.busy": "2025-08-07T17:05:41.119444Z",
     "iopub.status.idle": "2025-08-07T17:05:41.124969Z",
     "shell.execute_reply": "2025-08-07T17:05:41.124224Z"
    },
    "papermill": {
     "duration": 0.009674,
     "end_time": "2025-08-07T17:05:41.126275",
     "exception": false,
     "start_time": "2025-08-07T17:05:41.116601",
     "status": "completed"
    },
    "tags": []
   },
   "outputs": [
    {
     "data": {
      "text/plain": [
       "{'1': 99997334,\n",
       " '4': 100011958,\n",
       " '5': 99998885,\n",
       " '9': 100000273,\n",
       " '2': 100002410,\n",
       " '6': 100010387,\n",
       " '3': 99986911,\n",
       " '8': 100001839,\n",
       " '7': 99996061,\n",
       " '0': 99993942}"
      ]
     },
     "execution_count": 5,
     "metadata": {},
     "output_type": "execute_result"
    }
   ],
   "source": [
    "frequency"
   ]
  },
  {
   "cell_type": "code",
   "execution_count": null,
   "id": "cadecc48",
   "metadata": {
    "papermill": {
     "duration": 0.002026,
     "end_time": "2025-08-07T17:05:41.130575",
     "exception": false,
     "start_time": "2025-08-07T17:05:41.128549",
     "status": "completed"
    },
    "tags": []
   },
   "outputs": [],
   "source": []
  }
 ],
 "metadata": {
  "kaggle": {
   "accelerator": "none",
   "dataSources": [
    {
     "datasetId": 117475,
     "sourceId": 281555,
     "sourceType": "datasetVersion"
    }
   ],
   "dockerImageVersionId": 31089,
   "isGpuEnabled": false,
   "isInternetEnabled": true,
   "language": "python",
   "sourceType": "notebook"
  },
  "kernelspec": {
   "display_name": "Python 3",
   "language": "python",
   "name": "python3"
  },
  "language_info": {
   "codemirror_mode": {
    "name": "ipython",
    "version": 3
   },
   "file_extension": ".py",
   "mimetype": "text/x-python",
   "name": "python",
   "nbconvert_exporter": "python",
   "pygments_lexer": "ipython3",
   "version": "3.11.13"
  },
  "papermill": {
   "default_parameters": {},
   "duration": 225.234012,
   "end_time": "2025-08-07T17:05:41.551220",
   "environment_variables": {},
   "exception": null,
   "input_path": "__notebook__.ipynb",
   "output_path": "__notebook__.ipynb",
   "parameters": {},
   "start_time": "2025-08-07T17:01:56.317208",
   "version": "2.6.0"
  }
 },
 "nbformat": 4,
 "nbformat_minor": 5
}
